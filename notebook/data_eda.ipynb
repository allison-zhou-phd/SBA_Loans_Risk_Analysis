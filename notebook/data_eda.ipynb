{
 "cells": [
  {
   "cell_type": "code",
   "execution_count": 1,
   "metadata": {},
   "outputs": [],
   "source": [
    "import numpy as np\n",
    "import pandas as pd\n",
    "import matplotlib.pyplot as plt\n",
    "# import json\n",
    "# import folium"
   ]
  },
  {
   "cell_type": "code",
   "execution_count": 12,
   "metadata": {},
   "outputs": [],
   "source": [
    "df = pd.read_pickle('../data/pickled_loan')"
   ]
  },
  {
   "cell_type": "code",
   "execution_count": null,
   "metadata": {},
   "outputs": [],
   "source": [
    "# df_state = df.groupby('State').mean()['Default']*100\n",
    "# df_state.columns =['Default_Rate']\n",
    "\n",
    "# url = 'https://raw.githubusercontent.com/python-visualization/folium/master/examples/data'\n",
    "# state_geo = f'{url}/us-states.json'\n",
    "\n",
    "# m = folium.Map(location=[48, -102], zoom_start=3)\n",
    "\n",
    "# folium.Choropleth(\n",
    "#     geo_data=state_geo,\n",
    "#     name='choropleth',\n",
    "#     data=df_state,\n",
    "#     columns=['State', 'Default Rate'],\n",
    "#     key_on='feature.id',\n",
    "#     fill_color='YlOrRd',\n",
    "#     fill_opacity=0.7,\n",
    "#     line_opacity=0.2,\n",
    "#     legend_name='Default Rate (%)'\n",
    "# ).add_to(m)\n",
    "\n",
    "# folium.LayerControl().add_to(m)\n",
    "\n",
    "# m"
   ]
  },
  {
   "cell_type": "code",
   "execution_count": null,
   "metadata": {},
   "outputs": [],
   "source": [
    "df_bank_vol = df.groupby('Bank').agg({'LoanNr':'count', 'Default': 'mean'})\n",
    "df_bank_new = df_bank_vol[df_bank_vol['LoanNr']>3000].sort_values('Default',ascending=False)\n",
    "df_bank_new"
   ]
  },
  {
   "cell_type": "code",
   "execution_count": null,
   "metadata": {},
   "outputs": [],
   "source": [
    "df.groupby('NewBiz').mean()['Default']*100"
   ]
  },
  {
   "cell_type": "code",
   "execution_count": null,
   "metadata": {},
   "outputs": [],
   "source": [
    "df.groupby('ApprovalFY').mean()['Default']*100"
   ]
  },
  {
   "cell_type": "code",
   "execution_count": null,
   "metadata": {},
   "outputs": [],
   "source": [
    "df_grouped = df.groupby('Term').agg({'LoanNr':'count', 'Default': 'mean'})\n",
    "df_grouped[df_grouped['LoanNr']>2000].sort_values('Default',ascending=False)"
   ]
  },
  {
   "cell_type": "code",
   "execution_count": null,
   "metadata": {},
   "outputs": [],
   "source": [
    "df.groupby('Franchise').mean()['Default']*100"
   ]
  },
  {
   "cell_type": "code",
   "execution_count": null,
   "metadata": {},
   "outputs": [],
   "source": [
    "fig, ax = plt.subplots(figsize=(8,4))\n",
    "plt.plot(df_ur)\n",
    "ax.grid()"
   ]
  },
  {
   "cell_type": "code",
   "execution_count": null,
   "metadata": {},
   "outputs": [],
   "source": [
    "fig, ax = plt.subplots(figsize=(8,4))\n",
    "df_ur.plot.hist(bins=4)"
   ]
  },
  {
   "cell_type": "code",
   "execution_count": null,
   "metadata": {},
   "outputs": [],
   "source": []
  }
 ],
 "metadata": {
  "kernelspec": {
   "display_name": "Python 3",
   "language": "python",
   "name": "python3"
  },
  "language_info": {
   "codemirror_mode": {
    "name": "ipython",
    "version": 3
   },
   "file_extension": ".py",
   "mimetype": "text/x-python",
   "name": "python",
   "nbconvert_exporter": "python",
   "pygments_lexer": "ipython3",
   "version": "3.7.4"
  }
 },
 "nbformat": 4,
 "nbformat_minor": 2
}
